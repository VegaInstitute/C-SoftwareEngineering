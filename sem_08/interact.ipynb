{
 "cells": [
  {
   "cell_type": "code",
   "execution_count": 17,
   "id": "012217d1-93fc-4af4-9373-507d517178c5",
   "metadata": {
    "tags": []
   },
   "outputs": [
    {
     "name": "stderr",
     "output_type": "stream",
     "text": [
      "/home/igudav/anaconda3/lib/python3.9/site-packages/scipy/__init__.py:155: UserWarning: A NumPy version >=1.18.5 and <1.26.0 is required for this version of SciPy (detected version 1.26.1\n",
      "  warnings.warn(f\"A NumPy version >={np_minversion} and <{np_maxversion}\"\n"
     ]
    }
   ],
   "source": [
    "from ipywidgets import interact, FloatSlider\n",
    "import matplotlib.pyplot as plt\n",
    "import numpy as np\n",
    "\n",
    "import plotly.express as px"
   ]
  },
  {
   "cell_type": "code",
   "execution_count": 24,
   "id": "fae62698-32b9-45ec-9f61-fcbfaed925a0",
   "metadata": {
    "tags": []
   },
   "outputs": [],
   "source": [
    "def plot(a: float, b: float, c: float):\n",
    "    x = np.linspace(-3, 3, 100)\n",
    "    y = a * x**2 + b * x + c\n",
    "    fig = px.line(x=x, y=y)\n",
    "    fig.show()"
   ]
  },
  {
   "cell_type": "markdown",
   "id": "a24cbfcf-11f2-42b2-a37e-b33aa5423a79",
   "metadata": {},
   "source": [
    "# LES GO"
   ]
  },
  {
   "cell_type": "code",
   "execution_count": null,
   "id": "bf82ba87-15c7-4900-9a3b-53df04ba0f31",
   "metadata": {},
   "outputs": [],
   "source": [
    "go.Figure(line=dict(width=4))"
   ]
  },
  {
   "cell_type": "code",
   "execution_count": 25,
   "id": "c73bf3d1-8d04-4dcf-9ea6-a9ee7cbaf95f",
   "metadata": {
    "tags": []
   },
   "outputs": [
    {
     "data": {
      "application/vnd.jupyter.widget-view+json": {
       "model_id": "8a4011a851d148abb23acb8af2a0b3af",
       "version_major": 2,
       "version_minor": 0
      },
      "text/plain": [
       "interactive(children=(FloatSlider(value=0.0, description='a', max=5.0, min=-5.0), FloatSlider(value=0.0, descr…"
      ]
     },
     "metadata": {},
     "output_type": "display_data"
    }
   ],
   "source": [
    "interact(\n",
    "    plot,\n",
    "    a=FloatSlider(min=-5, max=5),\n",
    "    b=FloatSlider(min=-5, max=5),\n",
    "    c=FloatSlider(min=-5, max=5),\n",
    ");"
   ]
  },
  {
   "cell_type": "code",
   "execution_count": null,
   "id": "edf96475-a1cc-4fe1-b9cd-4b50f34e27e4",
   "metadata": {},
   "outputs": [],
   "source": []
  }
 ],
 "metadata": {
  "kernelspec": {
   "display_name": "Python (stvol)",
   "language": "python",
   "name": "stvol"
  },
  "language_info": {
   "codemirror_mode": {
    "name": "ipython",
    "version": 3
   },
   "file_extension": ".py",
   "mimetype": "text/x-python",
   "name": "python",
   "nbconvert_exporter": "python",
   "pygments_lexer": "ipython3",
   "version": "3.9.12"
  }
 },
 "nbformat": 4,
 "nbformat_minor": 5
}
